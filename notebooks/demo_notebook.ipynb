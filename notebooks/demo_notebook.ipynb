{
 "cells": [
  {
   "cell_type": "markdown",
   "id": "4d906133",
   "metadata": {},
   "source": [
    "### **Enhanced Portfolio Optimization Workflow**\n",
    "This document demonstrates the core backend logic of the portfolio optimization application. It covers data fetching, GARCH volatility forecasting, covariance construction, and running the three optimization models."
   ]
  },
  {
   "cell_type": "markdown",
   "id": "1e11fb6f",
   "metadata": {},
   "source": [
    "#### 1. Configuration & Data Fetching"
   ]
  },
  {
   "cell_type": "code",
   "execution_count": 1,
   "id": "a1f40715",
   "metadata": {},
   "outputs": [],
   "source": [
    "import pandas as pd\n",
    "import numpy as np\n",
    "import sys\n",
    "import os\n",
    "\n",
    "# Add the project root to the Python path\n",
    "sys.path.append(os.path.abspath(os.path.join(os.getcwd(), '..')))\n",
    "\n",
    "from src.data.fetcher import fetch_price_data\n",
    "from src.models.garch_model import get_garch_volatility_forecast\n",
    "from src.optimization.mvo import calculate_mvo_weights\n",
    "from src.optimization.risk_parity import calculate_risk_parity_weights\n",
    "from src.optimization.robust_mvo import calculate_enhanced_mvo_weights\n",
    "from src.models.utils import calculate_returns, calculate_covariance_matrix\n",
    "from src.optimization.performance import calculate_portfolio_performance, calculate_risk_contribution\n",
    "\n",
    "# Set display options for pandas\n",
    "pd.set_option('display.float_format', lambda x: '%.4f' % x)"
   ]
  },
  {
   "cell_type": "code",
   "execution_count": 2,
   "id": "55680038",
   "metadata": {},
   "outputs": [
    {
     "name": "stdout",
     "output_type": "stream",
     "text": [
      "Fetched Price Data (tail):\n"
     ]
    },
    {
     "name": "stderr",
     "output_type": "stream",
     "text": [
      "/home/timothykimutai/projects/volatility-prediction/volatility-prediction/src/data/fetcher.py:48: SettingWithCopyWarning: \n",
      "A value is trying to be set on a copy of a slice from a DataFrame\n",
      "\n",
      "See the caveats in the documentation: https://pandas.pydata.org/pandas-docs/stable/user_guide/indexing.html#returning-a-view-versus-a-copy\n",
      "  price_data.dropna(axis=1, how=\"all\", inplace=True)\n",
      "/home/timothykimutai/projects/volatility-prediction/volatility-prediction/src/data/fetcher.py:50: SettingWithCopyWarning: \n",
      "A value is trying to be set on a copy of a slice from a DataFrame\n",
      "\n",
      "See the caveats in the documentation: https://pandas.pydata.org/pandas-docs/stable/user_guide/indexing.html#returning-a-view-versus-a-copy\n",
      "  price_data.ffill(inplace=True)\n",
      "/home/timothykimutai/projects/volatility-prediction/volatility-prediction/src/data/fetcher.py:51: SettingWithCopyWarning: \n",
      "A value is trying to be set on a copy of a slice from a DataFrame\n",
      "\n",
      "See the caveats in the documentation: https://pandas.pydata.org/pandas-docs/stable/user_guide/indexing.html#returning-a-view-versus-a-copy\n",
      "  price_data.bfill(inplace=True)\n"
     ]
    },
    {
     "data": {
      "text/html": [
       "<div>\n",
       "<style scoped>\n",
       "    .dataframe tbody tr th:only-of-type {\n",
       "        vertical-align: middle;\n",
       "    }\n",
       "\n",
       "    .dataframe tbody tr th {\n",
       "        vertical-align: top;\n",
       "    }\n",
       "\n",
       "    .dataframe thead th {\n",
       "        text-align: right;\n",
       "    }\n",
       "</style>\n",
       "<table border=\"1\" class=\"dataframe\">\n",
       "  <thead>\n",
       "    <tr style=\"text-align: right;\">\n",
       "      <th>Ticker</th>\n",
       "      <th>DBC</th>\n",
       "      <th>GLD</th>\n",
       "      <th>SPY</th>\n",
       "      <th>TLT</th>\n",
       "    </tr>\n",
       "    <tr>\n",
       "      <th>Date</th>\n",
       "      <th></th>\n",
       "      <th></th>\n",
       "      <th></th>\n",
       "      <th></th>\n",
       "    </tr>\n",
       "  </thead>\n",
       "  <tbody>\n",
       "    <tr>\n",
       "      <th>2023-12-22</th>\n",
       "      <td>21.1034</td>\n",
       "      <td>190.2700</td>\n",
       "      <td>464.8744</td>\n",
       "      <td>91.8894</td>\n",
       "    </tr>\n",
       "    <tr>\n",
       "      <th>2023-12-26</th>\n",
       "      <td>21.3122</td>\n",
       "      <td>191.7200</td>\n",
       "      <td>466.8374</td>\n",
       "      <td>92.1507</td>\n",
       "    </tr>\n",
       "    <tr>\n",
       "      <th>2023-12-27</th>\n",
       "      <td>21.2173</td>\n",
       "      <td>192.5900</td>\n",
       "      <td>467.6814</td>\n",
       "      <td>93.7835</td>\n",
       "    </tr>\n",
       "    <tr>\n",
       "      <th>2023-12-28</th>\n",
       "      <td>21.0369</td>\n",
       "      <td>191.4700</td>\n",
       "      <td>467.8581</td>\n",
       "      <td>93.1024</td>\n",
       "    </tr>\n",
       "    <tr>\n",
       "      <th>2023-12-29</th>\n",
       "      <td>20.9230</td>\n",
       "      <td>191.1700</td>\n",
       "      <td>466.5037</td>\n",
       "      <td>92.2626</td>\n",
       "    </tr>\n",
       "  </tbody>\n",
       "</table>\n",
       "</div>"
      ],
      "text/plain": [
       "Ticker         DBC      GLD      SPY     TLT\n",
       "Date                                        \n",
       "2023-12-22 21.1034 190.2700 464.8744 91.8894\n",
       "2023-12-26 21.3122 191.7200 466.8374 92.1507\n",
       "2023-12-27 21.2173 192.5900 467.6814 93.7835\n",
       "2023-12-28 21.0369 191.4700 467.8581 93.1024\n",
       "2023-12-29 20.9230 191.1700 466.5037 92.2626"
      ]
     },
     "metadata": {},
     "output_type": "display_data"
    }
   ],
   "source": [
    "tickers = ['SPY', 'TLT', 'GLD', 'DBC'] # A classic multi-asset portfolio\n",
    "start_date = '2018-01-01'\n",
    "end_date = '2023-12-31'\n",
    "risk_free_rate = 0.02\n",
    "\n",
    "price_data = fetch_price_data(tickers, start_date, end_date)\n",
    "log_returns = calculate_returns(price_data)\n",
    "\n",
    "print(\"Fetched Price Data (tail):\")\n",
    "display(price_data.tail())"
   ]
  },
  {
   "cell_type": "markdown",
   "id": "cefd042a",
   "metadata": {},
   "source": [
    "#### 2. GARCH Volatility Forecasting"
   ]
  },
  {
   "cell_type": "code",
   "execution_count": 3,
   "id": "b5a749ba",
   "metadata": {},
   "outputs": [
    {
     "name": "stdout",
     "output_type": "stream",
     "text": [
      "Annualized Volatility Forecasts from GARCH (or fallback):\n"
     ]
    },
    {
     "data": {
      "text/plain": [
       "DBC   0.1804\n",
       "GLD   0.1386\n",
       "SPY   0.1688\n",
       "TLT   0.1731\n",
       "dtype: float64"
      ]
     },
     "metadata": {},
     "output_type": "display_data"
    }
   ],
   "source": [
    "garch_vol, garch_success_map = get_garch_volatility_forecast(log_returns, horizon=63)\n",
    "\n",
    "print(\"Annualized Volatility Forecasts from GARCH (or fallback):\")\n",
    "display(garch_vol)"
   ]
  },
  {
   "cell_type": "markdown",
   "id": "5f6f6336",
   "metadata": {},
   "source": [
    "#### 3. Input Preparation (Expected Returns & Covariance)"
   ]
  },
  {
   "cell_type": "code",
   "execution_count": 4,
   "id": "16c08b7a",
   "metadata": {},
   "outputs": [
    {
     "name": "stdout",
     "output_type": "stream",
     "text": [
      "Annualized Expected Returns:\n"
     ]
    },
    {
     "data": {
      "text/plain": [
       "Ticker\n",
       "DBC    0.0603\n",
       "GLD    0.0708\n",
       "SPY    0.1121\n",
       "TLT   -0.0168\n",
       "dtype: float64"
      ]
     },
     "metadata": {},
     "output_type": "display_data"
    },
    {
     "name": "stdout",
     "output_type": "stream",
     "text": [
      "\n",
      "Forecasted Covariance Matrix:\n"
     ]
    },
    {
     "data": {
      "text/html": [
       "<div>\n",
       "<style scoped>\n",
       "    .dataframe tbody tr th:only-of-type {\n",
       "        vertical-align: middle;\n",
       "    }\n",
       "\n",
       "    .dataframe tbody tr th {\n",
       "        vertical-align: top;\n",
       "    }\n",
       "\n",
       "    .dataframe thead th {\n",
       "        text-align: right;\n",
       "    }\n",
       "</style>\n",
       "<table border=\"1\" class=\"dataframe\">\n",
       "  <thead>\n",
       "    <tr style=\"text-align: right;\">\n",
       "      <th>Ticker</th>\n",
       "      <th>DBC</th>\n",
       "      <th>GLD</th>\n",
       "      <th>SPY</th>\n",
       "      <th>TLT</th>\n",
       "    </tr>\n",
       "    <tr>\n",
       "      <th>Ticker</th>\n",
       "      <th></th>\n",
       "      <th></th>\n",
       "      <th></th>\n",
       "      <th></th>\n",
       "    </tr>\n",
       "  </thead>\n",
       "  <tbody>\n",
       "    <tr>\n",
       "      <th>DBC</th>\n",
       "      <td>0.0325</td>\n",
       "      <td>0.0062</td>\n",
       "      <td>0.0109</td>\n",
       "      <td>-0.0047</td>\n",
       "    </tr>\n",
       "    <tr>\n",
       "      <th>GLD</th>\n",
       "      <td>0.0062</td>\n",
       "      <td>0.0192</td>\n",
       "      <td>0.0021</td>\n",
       "      <td>0.0067</td>\n",
       "    </tr>\n",
       "    <tr>\n",
       "      <th>SPY</th>\n",
       "      <td>0.0109</td>\n",
       "      <td>0.0021</td>\n",
       "      <td>0.0285</td>\n",
       "      <td>-0.0055</td>\n",
       "    </tr>\n",
       "    <tr>\n",
       "      <th>TLT</th>\n",
       "      <td>-0.0047</td>\n",
       "      <td>0.0067</td>\n",
       "      <td>-0.0055</td>\n",
       "      <td>0.0300</td>\n",
       "    </tr>\n",
       "  </tbody>\n",
       "</table>\n",
       "</div>"
      ],
      "text/plain": [
       "Ticker     DBC    GLD     SPY     TLT\n",
       "Ticker                               \n",
       "DBC     0.0325 0.0062  0.0109 -0.0047\n",
       "GLD     0.0062 0.0192  0.0021  0.0067\n",
       "SPY     0.0109 0.0021  0.0285 -0.0055\n",
       "TLT    -0.0047 0.0067 -0.0055  0.0300"
      ]
     },
     "metadata": {},
     "output_type": "display_data"
    }
   ],
   "source": [
    "annual_mean_returns = log_returns.mean() * 252\n",
    "cov_matrix = calculate_covariance_matrix(\n",
    "    log_returns, \n",
    "    use_garch_vol=True, \n",
    "    garch_vol_forecasts=garch_vol,\n",
    "    shrinkage=True # Use Ledoit-Wolf on correlation\n",
    ")\n",
    "\n",
    "print(\"Annualized Expected Returns:\")\n",
    "display(annual_mean_returns)\n",
    "\n",
    "print(\"\\nForecasted Covariance Matrix:\")\n",
    "display(cov_matrix)"
   ]
  },
  {
   "cell_type": "markdown",
   "id": "da1d0998",
   "metadata": {},
   "source": [
    "#### 4. Running Optimizers"
   ]
  },
  {
   "cell_type": "code",
   "execution_count": 5,
   "id": "65c35f22",
   "metadata": {},
   "outputs": [
    {
     "name": "stdout",
     "output_type": "stream",
     "text": [
      "Optimal Portfolio Weights:\n"
     ]
    },
    {
     "data": {
      "text/html": [
       "<div>\n",
       "<style scoped>\n",
       "    .dataframe tbody tr th:only-of-type {\n",
       "        vertical-align: middle;\n",
       "    }\n",
       "\n",
       "    .dataframe tbody tr th {\n",
       "        vertical-align: top;\n",
       "    }\n",
       "\n",
       "    .dataframe thead th {\n",
       "        text-align: right;\n",
       "    }\n",
       "</style>\n",
       "<table border=\"1\" class=\"dataframe\">\n",
       "  <thead>\n",
       "    <tr style=\"text-align: right;\">\n",
       "      <th></th>\n",
       "      <th>MVO</th>\n",
       "      <th>Risk-Parity</th>\n",
       "      <th>Enhanced MVO</th>\n",
       "    </tr>\n",
       "    <tr>\n",
       "      <th>Ticker</th>\n",
       "      <th></th>\n",
       "      <th></th>\n",
       "      <th></th>\n",
       "    </tr>\n",
       "  </thead>\n",
       "  <tbody>\n",
       "    <tr>\n",
       "      <th>DBC</th>\n",
       "      <td>0.0000</td>\n",
       "      <td>21.4975</td>\n",
       "      <td>22.0426</td>\n",
       "    </tr>\n",
       "    <tr>\n",
       "      <th>GLD</th>\n",
       "      <td>43.0158</td>\n",
       "      <td>25.2420</td>\n",
       "      <td>30.9974</td>\n",
       "    </tr>\n",
       "    <tr>\n",
       "      <th>SPY</th>\n",
       "      <td>56.9842</td>\n",
       "      <td>25.2900</td>\n",
       "      <td>46.9601</td>\n",
       "    </tr>\n",
       "    <tr>\n",
       "      <th>TLT</th>\n",
       "      <td>0.0000</td>\n",
       "      <td>27.9705</td>\n",
       "      <td>0.0000</td>\n",
       "    </tr>\n",
       "  </tbody>\n",
       "</table>\n",
       "</div>"
      ],
      "text/plain": [
       "           MVO  Risk-Parity  Enhanced MVO\n",
       "Ticker                                   \n",
       "DBC     0.0000      21.4975       22.0426\n",
       "GLD    43.0158      25.2420       30.9974\n",
       "SPY    56.9842      25.2900       46.9601\n",
       "TLT     0.0000      27.9705        0.0000"
      ]
     },
     "metadata": {},
     "output_type": "display_data"
    }
   ],
   "source": [
    "# MVO (Max Sharpe)\n",
    "mvo_weights, mvo_perf = calculate_mvo_weights(annual_mean_returns, cov_matrix, risk_free_rate)\n",
    "\n",
    "# Risk-Parity\n",
    "rp_weights = calculate_risk_parity_weights(cov_matrix)\n",
    "rp_perf = calculate_portfolio_performance(rp_weights, annual_mean_returns, cov_matrix, risk_free_rate)\n",
    "\n",
    "# Enhanced MVO\n",
    "robust_mu_uncertainty = (log_returns.std() / np.sqrt(len(log_returns))) * np.sqrt(252) * 0.5\n",
    "enhanced_weights, enhanced_perf = calculate_enhanced_mvo_weights(\n",
    "    mu=annual_mean_returns,\n",
    "    cov_matrix=cov_matrix,\n",
    "    risk_free_rate=risk_free_rate,\n",
    "    w_ref=rp_weights,\n",
    "    epsilon=robust_mu_uncertainty,\n",
    "    rho_rp=1.0,\n",
    "    tau_l2=1e-5\n",
    ")\n",
    "\n",
    "results_df = pd.DataFrame({\n",
    "    'MVO': mvo_weights,\n",
    "    'Risk-Parity': rp_weights,\n",
    "    'Enhanced MVO': enhanced_weights\n",
    "})\n",
    "\n",
    "print(\"Optimal Portfolio Weights:\")\n",
    "display(results_df * 100)"
   ]
  },
  {
   "cell_type": "markdown",
   "id": "d18372cf",
   "metadata": {},
   "source": [
    "#### 5. Performance and Risk Analysis"
   ]
  },
  {
   "cell_type": "code",
   "execution_count": 6,
   "id": "7903cb82",
   "metadata": {},
   "outputs": [
    {
     "name": "stdout",
     "output_type": "stream",
     "text": [
      "Portfolio Performance Metrics:\n"
     ]
    },
    {
     "data": {
      "text/html": [
       "<div>\n",
       "<style scoped>\n",
       "    .dataframe tbody tr th:only-of-type {\n",
       "        vertical-align: middle;\n",
       "    }\n",
       "\n",
       "    .dataframe tbody tr th {\n",
       "        vertical-align: top;\n",
       "    }\n",
       "\n",
       "    .dataframe thead th {\n",
       "        text-align: right;\n",
       "    }\n",
       "</style>\n",
       "<table border=\"1\" class=\"dataframe\">\n",
       "  <thead>\n",
       "    <tr style=\"text-align: right;\">\n",
       "      <th></th>\n",
       "      <th>expected_return</th>\n",
       "      <th>volatility</th>\n",
       "      <th>sharpe_ratio</th>\n",
       "    </tr>\n",
       "  </thead>\n",
       "  <tbody>\n",
       "    <tr>\n",
       "      <th>MVO</th>\n",
       "      <td>0.0943</td>\n",
       "      <td>0.1176</td>\n",
       "      <td>0.6322</td>\n",
       "    </tr>\n",
       "    <tr>\n",
       "      <th>Risk-Parity</th>\n",
       "      <td>0.0545</td>\n",
       "      <td>0.0928</td>\n",
       "      <td>0.3713</td>\n",
       "    </tr>\n",
       "    <tr>\n",
       "      <th>Enhanced MVO</th>\n",
       "      <td>0.0879</td>\n",
       "      <td>0.1158</td>\n",
       "      <td>0.5860</td>\n",
       "    </tr>\n",
       "  </tbody>\n",
       "</table>\n",
       "</div>"
      ],
      "text/plain": [
       "              expected_return  volatility  sharpe_ratio\n",
       "MVO                    0.0943      0.1176        0.6322\n",
       "Risk-Parity            0.0545      0.0928        0.3713\n",
       "Enhanced MVO           0.0879      0.1158        0.5860"
      ]
     },
     "metadata": {},
     "output_type": "display_data"
    },
    {
     "name": "stdout",
     "output_type": "stream",
     "text": [
      "\n",
      "Risk Contributions (%):\n"
     ]
    },
    {
     "data": {
      "text/html": [
       "<div>\n",
       "<style scoped>\n",
       "    .dataframe tbody tr th:only-of-type {\n",
       "        vertical-align: middle;\n",
       "    }\n",
       "\n",
       "    .dataframe tbody tr th {\n",
       "        vertical-align: top;\n",
       "    }\n",
       "\n",
       "    .dataframe thead th {\n",
       "        text-align: right;\n",
       "    }\n",
       "</style>\n",
       "<table border=\"1\" class=\"dataframe\">\n",
       "  <thead>\n",
       "    <tr style=\"text-align: right;\">\n",
       "      <th></th>\n",
       "      <th>MVO</th>\n",
       "      <th>Risk-Parity</th>\n",
       "      <th>Enhanced MVO</th>\n",
       "    </tr>\n",
       "    <tr>\n",
       "      <th>Ticker</th>\n",
       "      <th></th>\n",
       "      <th></th>\n",
       "      <th></th>\n",
       "    </tr>\n",
       "  </thead>\n",
       "  <tbody>\n",
       "    <tr>\n",
       "      <th>DBC</th>\n",
       "      <td>0.0000</td>\n",
       "      <td>24.9190</td>\n",
       "      <td>23.3493</td>\n",
       "    </tr>\n",
       "    <tr>\n",
       "      <th>GLD</th>\n",
       "      <td>29.3963</td>\n",
       "      <td>25.1425</td>\n",
       "      <td>19.1503</td>\n",
       "    </tr>\n",
       "    <tr>\n",
       "      <th>SPY</th>\n",
       "      <td>70.6037</td>\n",
       "      <td>25.0367</td>\n",
       "      <td>57.5004</td>\n",
       "    </tr>\n",
       "    <tr>\n",
       "      <th>TLT</th>\n",
       "      <td>-0.0000</td>\n",
       "      <td>24.9018</td>\n",
       "      <td>-0.0000</td>\n",
       "    </tr>\n",
       "  </tbody>\n",
       "</table>\n",
       "</div>"
      ],
      "text/plain": [
       "           MVO  Risk-Parity  Enhanced MVO\n",
       "Ticker                                   \n",
       "DBC     0.0000      24.9190       23.3493\n",
       "GLD    29.3963      25.1425       19.1503\n",
       "SPY    70.6037      25.0367       57.5004\n",
       "TLT    -0.0000      24.9018       -0.0000"
      ]
     },
     "metadata": {},
     "output_type": "display_data"
    }
   ],
   "source": [
    "perf_data = {\n",
    "    'MVO': mvo_perf,\n",
    "    'Risk-Parity': rp_perf,\n",
    "    'Enhanced MVO': enhanced_perf\n",
    "}\n",
    "perf_df = pd.DataFrame(perf_data).T\n",
    "\n",
    "print(\"Portfolio Performance Metrics:\")\n",
    "display(perf_df)\n",
    "\n",
    "\n",
    "risk_contribs_df = pd.DataFrame()\n",
    "for name, w in results_df.items():\n",
    "    risk_contribs_df[name] = calculate_risk_contribution(w, cov_matrix)\n",
    "    \n",
    "print(\"\\nRisk Contributions (%):\")\n",
    "display(risk_contribs_df * 100)"
   ]
  }
 ],
 "metadata": {
  "kernelspec": {
   "display_name": ".venv (3.12.3)",
   "language": "python",
   "name": "python3"
  },
  "language_info": {
   "codemirror_mode": {
    "name": "ipython",
    "version": 3
   },
   "file_extension": ".py",
   "mimetype": "text/x-python",
   "name": "python",
   "nbconvert_exporter": "python",
   "pygments_lexer": "ipython3",
   "version": "3.12.3"
  }
 },
 "nbformat": 4,
 "nbformat_minor": 5
}
